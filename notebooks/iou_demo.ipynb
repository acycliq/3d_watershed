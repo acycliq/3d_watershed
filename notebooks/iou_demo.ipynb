{
 "cells": [
  {
   "cell_type": "markdown",
   "id": "1b3907c8-59c6-4c6c-bf89-62b181e3ea0b",
   "metadata": {},
   "source": [
    "## IoU demo\n",
    "#### This is a demo to help you gain a better insight about the 2d stitching inner workings and in particular the intersection over union metric "
   ]
  },
  {
   "cell_type": "code",
   "execution_count": 1,
   "id": "796f9f0b-65fa-4da5-9d6e-be34aab4804d",
   "metadata": {},
   "outputs": [
    {
     "name": "stdout",
     "output_type": "stream",
     "text": [
      "DIPlib -- a quantitative image analysis library\n",
      "Version 3.4.1 (Oct 13 2023)\n",
      "For more information see https://diplib.org\n"
     ]
    }
   ],
   "source": [
    "from PIL import Image\n",
    "import numpy as np\n",
    "import pandas as pd\n",
    "import watershed_3d as ws\n",
    "from IPython.display import clear_output\n",
    "from ipywidgets import interact, interactive, fixed, interact_manual\n",
    "import ipywidgets as widgets\n",
    "import tifffile as tif"
   ]
  },
  {
   "cell_type": "code",
   "execution_count": 2,
   "id": "1bdb0f34-7366-40f8-a5df-ffaac857f8d2",
   "metadata": {},
   "outputs": [],
   "source": [
    "def square(canvas, centre, side_length, label = 255):\n",
    "    \"\"\"\n",
    "    Draws a square centered at 'centre' with side length 'side_length'\n",
    "    and colour 'label'. The colour is a shade of grey, ie it takes\n",
    "    values between 0 (pure black) and 255 (pure white) and also serves\n",
    "    as the label of the shape\n",
    "    The square is drawn on a background defined by 'canvas'\n",
    "    \"\"\"\n",
    "    row, col = centre\n",
    "    size = int(side_length/2)\n",
    "    H, W = canvas.shape\n",
    "    hmin = max(0, row-size)\n",
    "    hmax = min(H, 1 + row+size)\n",
    "\n",
    "    wmin = max(0, col-size)\n",
    "    wmax = min(W, 1 + col+size)\n",
    "\n",
    "    canvas[hmin:hmax, wmin:wmax] = label\n",
    "    return canvas.astype(np.uint8)"
   ]
  },
  {
   "cell_type": "code",
   "execution_count": 3,
   "id": "bf81d0b2-e635-45c8-88e6-eab7aa07622c",
   "metadata": {},
   "outputs": [],
   "source": [
    "def checkerboard():\n",
    "    \"\"\"\n",
    "    Helper function to draw multiple shapes on a common background\n",
    "    \"\"\"\n",
    "    x = np.zeros([600, 600])\n",
    "    x = square(canvas=x, centre=(150, 150), side_length=200, label=40)\n",
    "    x = square(canvas=x, centre=(150, 450), side_length=220, label=80)\n",
    "    x = square(canvas=x, centre=(450, 150), side_length=240, label=120)\n",
    "    x = square(canvas=x, centre=(450, 450), side_length=260, label=170)\n",
    "\n",
    "    return x"
   ]
  },
  {
   "cell_type": "markdown",
   "id": "0f42fdda-fad8-4945-ba1e-6d13b81bc384",
   "metadata": {},
   "source": [
    "## IoU: Intro"
   ]
  },
  {
   "cell_type": "markdown",
   "id": "a91868bb-8c36-4551-a7ce-f15d846acf2c",
   "metadata": {},
   "source": [
    "We use the intersection over union metric to decide whether two overlapping shapes can be deemed as one single entity or not\n",
    "\n",
    "To demontrate this graphically lets draw two squares:"
   ]
  },
  {
   "cell_type": "code",
   "execution_count": 4,
   "id": "57405451-7106-4bab-bd13-528b1b865d0d",
   "metadata": {},
   "outputs": [],
   "source": [
    "def two_squares(stitch_threshold=0.15):\n",
    "    background_sq = square(canvas=np.zeros([600, 600]), centre=(150, 150), side_length=200, label=40)\n",
    "\n",
    "    foreround_sq = square(canvas=np.zeros(background_sq.shape), centre=(250, 250), side_length=200, label=255)\n",
    "    masks = np.stack([foreround_sq, background_sq])\n",
    "    stitched = ws.segment.stitch3D_coo(masks, stitch_threshold=stitch_threshold)\n",
    "\n",
    "    out = stitched.max(axis=0)\n",
    "    out = out.astype(np.uint8)\n",
    "    # tif.imwrite(\"out.tif\", out)\n",
    "    img = Image.fromarray(out)\n",
    "    return img"
   ]
  },
  {
   "cell_type": "code",
   "execution_count": 5,
   "id": "f4f50104-af1c-444e-bb13-1da17cc4eb7e",
   "metadata": {},
   "outputs": [
    {
     "data": {
      "image/jpeg": "[encoded data removed]",
      "image/png": "[encoded data removed]",
      "text/plain": [
       "<PIL.Image.Image image mode=L size=600x600>"
      ]
     },
     "execution_count": 5,
     "metadata": {},
     "output_type": "execute_result"
    }
   ],
   "source": [
    "two_squares()"
   ]
  },
  {
   "cell_type": "markdown",
   "id": "b621298e-5c00-4d44-ab24-8e815ca77e35",
   "metadata": {},
   "source": [
    "The dark grey square in the background is centered at point = (150, 150) and each side has length = 200. Additionally, the white square has the same side length as the grey square (ie 200) but it centered at (250, 250)\n",
    "\n",
    "\n",
    "Hence the overlap region is a small square with side length = 100. Its area is: \n",
    "\n",
    "Interesection area = 100 * 100 = 10000\n",
    "\n",
    "\n",
    "\n",
    "The union of the two squares has an area equal to the sum of the two individual squares minus the overlap (otherwise we will be double-counting the common part). Hence the union is equal to:\n",
    "\n",
    "Union area = (200 * 200 + 200 * 200 - 100*100)\n",
    "\n",
    "Therefore the IoU metric is:\n",
    "\n",
    "\n",
    "\n",
    "\\begin{align}\n",
    "IoU & = \\frac{Interesection}{Union} \\\\\n",
    "& = \\frac{100*100}{200 * 200 + 200 * 200 - 100*100} \\\\\n",
    "& = \\frac{10000}{70000} \\\\\n",
    "& = 0.14285\n",
    "\\end{align}\n",
    "\n",
    "The IoU metric in general, ranges between 0 (when there is no overlap at all) and 1 (when the shapes exactly overimpose each other)\n",
    "\n",
    "For the specific example above IoU = 0.14. In our watershed 2d-sticher there is a argument that you can pass called 'stitch_threshold'. \n",
    "\n",
    "<font color='red'>If the IoU is greater that this threshold then the two shapes are merged otherwise they are left unchanged</font>\n",
    "\n",
    "You can use the slider below to change the threshold. You will notice that as soon as the threshold falls below 0.14 the two shapes take the same colour, meaning that they now have the same label. In particular, the label of the shape in the background is replaced by the label of the foreground shape "
   ]
  },
  {
   "cell_type": "code",
   "execution_count": 6,
   "id": "de37e94f-df33-48d3-97f6-5c46dbccf541",
   "metadata": {},
   "outputs": [
    {
     "data": {
      "application/vnd.jupyter.widget-view+json": {
       "model_id": "3a81f322368b4b559e542de1f1a6d43e",
       "version_major": 2,
       "version_minor": 0
      },
      "text/plain": [
       "interactive(children=(FloatSlider(value=0.5, description='stitch_threshold', max=1.0, step=0.005), Output()), …"
      ]
     },
     "metadata": {},
     "output_type": "display_data"
    }
   ],
   "source": [
    "@interact(stitch_threshold=(0.0, 1.0, 0.005))\n",
    "def demo(stitch_threshold=0.5):\n",
    "    return two_squares(stitch_threshold=stitch_threshold)"
   ]
  },
  {
   "cell_type": "markdown",
   "id": "37c0d6bb-9ec1-41be-904c-896194b728b2",
   "metadata": {},
   "source": [
    "## IoU: Second example"
   ]
  },
  {
   "cell_type": "markdown",
   "id": "cf49c97c-0217-43d9-b4be-8c436abca1cd",
   "metadata": {},
   "source": [
    "Lets now do a slightly more complicated case where we have again one single square in the foregound (placed at the centre of our canvas and bigger than previously) and 4 smaller ones in the backgound"
   ]
  },
  {
   "cell_type": "code",
   "execution_count": 7,
   "id": "f17af7a8-2cff-47ae-bc85-6a158a5b0129",
   "metadata": {},
   "outputs": [],
   "source": [
    "def app(stitch_threshold=0.15):\n",
    "    four_squares = checkerboard()\n",
    "    my_square = square(canvas=np.zeros(four_squares.shape), centre=(300, 300), side_length=300, label=255)\n",
    "    masks = np.stack([my_square, four_squares])\n",
    "    stitched = ws.segment.stitch3D_coo(masks, stitch_threshold=stitch_threshold)\n",
    "\n",
    "    out = stitched.max(axis=0)\n",
    "    out = out.astype(np.uint8)\n",
    "    # tif.imwrite(\"out.tif\", out)\n",
    "    img = Image.fromarray(out)\n",
    "    return img"
   ]
  },
  {
   "cell_type": "markdown",
   "id": "f422b60d-350d-4371-b4ee-41b1dc5a0dfc",
   "metadata": {},
   "source": [
    "\n",
    "<font font-weight='bold' color='red'>Christina, play around with the slider. As you get closer to zero you will see the squares in the backgound changing color as the threshold takes values that are lower than the actual IoU </font>\n"
   ]
  },
  {
   "cell_type": "code",
   "execution_count": 8,
   "id": "b06b1485-e3b7-43b3-849a-683a748fec8e",
   "metadata": {},
   "outputs": [
    {
     "data": {
      "application/vnd.jupyter.widget-view+json": {
       "model_id": "8a48c0fd9e3446838effaaa97ce85254",
       "version_major": 2,
       "version_minor": 0
      },
      "text/plain": [
       "interactive(children=(FloatSlider(value=0.5, description='stitch_threshold', max=1.0, step=0.005), Output()), …"
      ]
     },
     "metadata": {},
     "output_type": "display_data"
    }
   ],
   "source": [
    "@interact(stitch_threshold=(0.0, 1.0, 0.005))\n",
    "def demo(stitch_threshold=0.5):\n",
    "    return app(stitch_threshold=stitch_threshold)"
   ]
  },
  {
   "cell_type": "markdown",
   "id": "4369067c-d824-4cbb-9db6-0c4c1c77a233",
   "metadata": {},
   "source": [
    "**Note:**\n",
    "\n",
    "The example above can be seen from a perspective where you have a microglia in the first plane, and splits into four smaller parts in the second plane. Depending on the treshold you can relay the label of the microglia in the foreground to none, 1, 2,3 or all four shapes in the second plane.\n",
    "\n",
    "In cellpose the logic is a bit different. Under cellpose even you push the slider above all the way left, to zero, you would only have just one square of the squares in the second plane changing colour.\n",
    "If the IoU is greater the threshold, and you have more than one cell satisfying this condition, cellpose will pass the label to the biggest shape and only to that."
   ]
  },
  {
   "cell_type": "code",
   "execution_count": null,
   "id": "2c7a0b7f-480b-4666-ab3b-454713d40073",
   "metadata": {},
   "outputs": [],
   "source": []
  }
 ],
 "metadata": {
  "kernelspec": {
   "display_name": "Python 3 (ipykernel)",
   "language": "python",
   "name": "python3"
  },
  "language_info": {
   "codemirror_mode": {
    "name": "ipython",
    "version": 3
   },
   "file_extension": ".py",
   "mimetype": "text/x-python",
   "name": "python",
   "nbconvert_exporter": "python",
   "pygments_lexer": "ipython3",
   "version": "3.8.18"
  }
 },
 "nbformat": 4,
 "nbformat_minor": 5
}
