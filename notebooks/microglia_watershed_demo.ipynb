{
 "cells": [
  {
   "cell_type": "markdown",
   "id": "738617c8-60b2-43f5-bd29-51d3fbfaceae",
   "metadata": {},
   "source": [
    "# Demo: Watershed on microglia "
   ]
  },
  {
   "cell_type": "markdown",
   "id": "f940d31d-3ff5-4971-a9e0-4a67b201c761",
   "metadata": {},
   "source": [
    "### Get the watershed_3d package, version 0.0.2"
   ]
  },
  {
   "cell_type": "code",
   "execution_count": 1,
   "id": "0663f54a-08a8-4bf1-af53-8ca096f2ed0a",
   "metadata": {},
   "outputs": [
    {
     "name": "stdout",
     "output_type": "stream",
     "text": [
      "Found existing installation: watershed-3d 0.0.4\n",
      "Uninstalling watershed-3d-0.0.4:\n",
      "  Successfully uninstalled watershed-3d-0.0.4\n",
      "Collecting watershed-3d==0.0.4\n",
      "  Downloading https://github.com/acycliq/3d_watershed/raw/master/dist/watershed_3d-0.0.4-py3-none-any.whl (12 kB)\n",
      "Requirement already satisfied: tifffile in /home/dimitris/miniconda3/envs/3d_watershed/lib/python3.8/site-packages (from watershed-3d==0.0.4) (2023.7.10)\n",
      "Requirement already satisfied: scipy in /home/dimitris/miniconda3/envs/3d_watershed/lib/python3.8/site-packages (from watershed-3d==0.0.4) (1.10.1)\n",
      "Requirement already satisfied: numba in /home/dimitris/miniconda3/envs/3d_watershed/lib/python3.8/site-packages (from watershed-3d==0.0.4) (0.58.1)\n",
      "Requirement already satisfied: pandas in /home/dimitris/miniconda3/envs/3d_watershed/lib/python3.8/site-packages (from watershed-3d==0.0.4) (2.0.3)\n",
      "Requirement already satisfied: numpy in /home/dimitris/miniconda3/envs/3d_watershed/lib/python3.8/site-packages (from watershed-3d==0.0.4) (1.24.3)\n",
      "Requirement already satisfied: scikit-image in /home/dimitris/miniconda3/envs/3d_watershed/lib/python3.8/site-packages (from watershed-3d==0.0.4) (0.21.0)\n",
      "Requirement already satisfied: scikit-learn in /home/dimitris/miniconda3/envs/3d_watershed/lib/python3.8/site-packages (from watershed-3d==0.0.4) (1.3.2)\n",
      "Requirement already satisfied: fastremap in /home/dimitris/miniconda3/envs/3d_watershed/lib/python3.8/site-packages (from watershed-3d==0.0.4) (1.14.0)\n",
      "Requirement already satisfied: diplib in /home/dimitris/miniconda3/envs/3d_watershed/lib/python3.8/site-packages (from watershed-3d==0.0.4) (3.4.1)\n",
      "Requirement already satisfied: edt in /home/dimitris/miniconda3/envs/3d_watershed/lib/python3.8/site-packages (from watershed-3d==0.0.4) (2.3.1)\n",
      "Requirement already satisfied: pciSeq in /home/dimitris/miniconda3/envs/3d_watershed/lib/python3.8/site-packages (from watershed-3d==0.0.4) (0.0.59)\n",
      "Requirement already satisfied: opencv-python-headless in /home/dimitris/miniconda3/envs/3d_watershed/lib/python3.8/site-packages (from watershed-3d==0.0.4) (4.8.1.78)\n",
      "Requirement already satisfied: Pillow in /home/dimitris/miniconda3/envs/3d_watershed/lib/python3.8/site-packages (from watershed-3d==0.0.4) (10.0.1)\n",
      "Requirement already satisfied: jupyterlab in /home/dimitris/miniconda3/envs/3d_watershed/lib/python3.8/site-packages (from watershed-3d==0.0.4) (4.0.8)\n",
      "Requirement already satisfied: ipywidgets in /home/dimitris/miniconda3/envs/3d_watershed/lib/python3.8/site-packages (from watershed-3d==0.0.4) (8.1.1)\n",
      "Requirement already satisfied: comm>=0.1.3 in /home/dimitris/miniconda3/envs/3d_watershed/lib/python3.8/site-packages (from ipywidgets->watershed-3d==0.0.4) (0.1.4)\n",
      "Requirement already satisfied: ipython>=6.1.0 in /home/dimitris/miniconda3/envs/3d_watershed/lib/python3.8/site-packages (from ipywidgets->watershed-3d==0.0.4) (8.12.2)\n",
      "Requirement already satisfied: traitlets>=4.3.1 in /home/dimitris/miniconda3/envs/3d_watershed/lib/python3.8/site-packages (from ipywidgets->watershed-3d==0.0.4) (5.13.0)\n",
      "Requirement already satisfied: widgetsnbextension~=4.0.9 in /home/dimitris/miniconda3/envs/3d_watershed/lib/python3.8/site-packages (from ipywidgets->watershed-3d==0.0.4) (4.0.9)\n",
      "Requirement already satisfied: jupyterlab-widgets~=3.0.9 in /home/dimitris/miniconda3/envs/3d_watershed/lib/python3.8/site-packages (from ipywidgets->watershed-3d==0.0.4) (3.0.9)\n",
      "Requirement already satisfied: async-lru>=1.0.0 in /home/dimitris/miniconda3/envs/3d_watershed/lib/python3.8/site-packages (from jupyterlab->watershed-3d==0.0.4) (2.0.4)\n",
      "Requirement already satisfied: importlib-metadata>=4.8.3 in /home/dimitris/miniconda3/envs/3d_watershed/lib/python3.8/site-packages (from jupyterlab->watershed-3d==0.0.4) (6.8.0)\n",
      "Requirement already satisfied: importlib-resources>=1.4 in /home/dimitris/miniconda3/envs/3d_watershed/lib/python3.8/site-packages (from jupyterlab->watershed-3d==0.0.4) (6.1.1)\n",
      "Requirement already satisfied: ipykernel in /home/dimitris/miniconda3/envs/3d_watershed/lib/python3.8/site-packages (from jupyterlab->watershed-3d==0.0.4) (6.26.0)\n",
      "Requirement already satisfied: jinja2>=3.0.3 in /home/dimitris/miniconda3/envs/3d_watershed/lib/python3.8/site-packages (from jupyterlab->watershed-3d==0.0.4) (3.1.2)\n",
      "Requirement already satisfied: jupyter-core in /home/dimitris/miniconda3/envs/3d_watershed/lib/python3.8/site-packages (from jupyterlab->watershed-3d==0.0.4) (5.5.0)\n",
      "Requirement already satisfied: jupyter-lsp>=2.0.0 in /home/dimitris/miniconda3/envs/3d_watershed/lib/python3.8/site-packages (from jupyterlab->watershed-3d==0.0.4) (2.2.0)\n",
      "Requirement already satisfied: jupyter-server<3,>=2.4.0 in /home/dimitris/miniconda3/envs/3d_watershed/lib/python3.8/site-packages (from jupyterlab->watershed-3d==0.0.4) (2.10.0)\n",
      "Requirement already satisfied: jupyterlab-server<3,>=2.19.0 in /home/dimitris/miniconda3/envs/3d_watershed/lib/python3.8/site-packages (from jupyterlab->watershed-3d==0.0.4) (2.25.1)\n",
      "Requirement already satisfied: notebook-shim>=0.2 in /home/dimitris/miniconda3/envs/3d_watershed/lib/python3.8/site-packages (from jupyterlab->watershed-3d==0.0.4) (0.2.3)\n",
      "Requirement already satisfied: packaging in /home/dimitris/miniconda3/envs/3d_watershed/lib/python3.8/site-packages (from jupyterlab->watershed-3d==0.0.4) (23.2)\n",
      "Requirement already satisfied: tomli in /home/dimitris/miniconda3/envs/3d_watershed/lib/python3.8/site-packages (from jupyterlab->watershed-3d==0.0.4) (2.0.1)\n",
      "Requirement already satisfied: tornado>=6.2.0 in /home/dimitris/miniconda3/envs/3d_watershed/lib/python3.8/site-packages (from jupyterlab->watershed-3d==0.0.4) (6.3.3)\n",
      "Requirement already satisfied: llvmlite<0.42,>=0.41.0dev0 in /home/dimitris/miniconda3/envs/3d_watershed/lib/python3.8/site-packages (from numba->watershed-3d==0.0.4) (0.41.1)\n",
      "Requirement already satisfied: python-dateutil>=2.8.2 in /home/dimitris/miniconda3/envs/3d_watershed/lib/python3.8/site-packages (from pandas->watershed-3d==0.0.4) (2.8.2)\n",
      "Requirement already satisfied: pytz>=2020.1 in /home/dimitris/miniconda3/envs/3d_watershed/lib/python3.8/site-packages (from pandas->watershed-3d==0.0.4) (2023.3.post1)\n",
      "Requirement already satisfied: tzdata>=2022.1 in /home/dimitris/miniconda3/envs/3d_watershed/lib/python3.8/site-packages (from pandas->watershed-3d==0.0.4) (2023.3)\n",
      "Requirement already satisfied: numpy-groupies in /home/dimitris/miniconda3/envs/3d_watershed/lib/python3.8/site-packages (from pciSeq->watershed-3d==0.0.4) (0.9.22)\n",
      "Requirement already satisfied: streamlit in /home/dimitris/miniconda3/envs/3d_watershed/lib/python3.8/site-packages (from pciSeq->watershed-3d==0.0.4) (1.28.1)\n",
      "Requirement already satisfied: altair in /home/dimitris/miniconda3/envs/3d_watershed/lib/python3.8/site-packages (from pciSeq->watershed-3d==0.0.4) (5.1.2)\n",
      "Requirement already satisfied: tqdm in /home/dimitris/miniconda3/envs/3d_watershed/lib/python3.8/site-packages (from pciSeq->watershed-3d==0.0.4) (4.66.1)\n",
      "Requirement already satisfied: flask in /home/dimitris/miniconda3/envs/3d_watershed/lib/python3.8/site-packages (from pciSeq->watershed-3d==0.0.4) (3.0.0)\n",
      "Requirement already satisfied: numexpr in /home/dimitris/miniconda3/envs/3d_watershed/lib/python3.8/site-packages (from pciSeq->watershed-3d==0.0.4) (2.8.6)\n",
      "Requirement already satisfied: pyvips in /home/dimitris/miniconda3/envs/3d_watershed/lib/python3.8/site-packages (from pciSeq->watershed-3d==0.0.4) (2.2.1)\n",
      "Requirement already satisfied: natsort in /home/dimitris/miniconda3/envs/3d_watershed/lib/python3.8/site-packages (from pciSeq->watershed-3d==0.0.4) (8.4.0)\n",
      "Requirement already satisfied: redis in /home/dimitris/miniconda3/envs/3d_watershed/lib/python3.8/site-packages (from pciSeq->watershed-3d==0.0.4) (5.0.1)\n",
      "Requirement already satisfied: networkx>=2.8 in /home/dimitris/miniconda3/envs/3d_watershed/lib/python3.8/site-packages (from scikit-image->watershed-3d==0.0.4) (3.1)\n",
      "Requirement already satisfied: imageio>=2.27 in /home/dimitris/miniconda3/envs/3d_watershed/lib/python3.8/site-packages (from scikit-image->watershed-3d==0.0.4) (2.32.0)\n",
      "Requirement already satisfied: PyWavelets>=1.1.1 in /home/dimitris/miniconda3/envs/3d_watershed/lib/python3.8/site-packages (from scikit-image->watershed-3d==0.0.4) (1.4.1)\n",
      "Requirement already satisfied: lazy_loader>=0.2 in /home/dimitris/miniconda3/envs/3d_watershed/lib/python3.8/site-packages (from scikit-image->watershed-3d==0.0.4) (0.3)\n",
      "Requirement already satisfied: joblib>=1.1.1 in /home/dimitris/miniconda3/envs/3d_watershed/lib/python3.8/site-packages (from scikit-learn->watershed-3d==0.0.4) (1.3.2)\n",
      "Requirement already satisfied: threadpoolctl>=2.0.0 in /home/dimitris/miniconda3/envs/3d_watershed/lib/python3.8/site-packages (from scikit-learn->watershed-3d==0.0.4) (3.2.0)\n",
      "Requirement already satisfied: typing-extensions>=4.0.0 in /home/dimitris/miniconda3/envs/3d_watershed/lib/python3.8/site-packages (from async-lru>=1.0.0->jupyterlab->watershed-3d==0.0.4) (4.8.0)\n",
      "Requirement already satisfied: zipp>=0.5 in /home/dimitris/miniconda3/envs/3d_watershed/lib/python3.8/site-packages (from importlib-metadata>=4.8.3->jupyterlab->watershed-3d==0.0.4) (3.17.0)\n",
      "Requirement already satisfied: backcall in /home/dimitris/miniconda3/envs/3d_watershed/lib/python3.8/site-packages (from ipython>=6.1.0->ipywidgets->watershed-3d==0.0.4) (0.2.0)\n",
      "Requirement already satisfied: decorator in /home/dimitris/miniconda3/envs/3d_watershed/lib/python3.8/site-packages (from ipython>=6.1.0->ipywidgets->watershed-3d==0.0.4) (5.1.1)\n",
      "Requirement already satisfied: jedi>=0.16 in /home/dimitris/miniconda3/envs/3d_watershed/lib/python3.8/site-packages (from ipython>=6.1.0->ipywidgets->watershed-3d==0.0.4) (0.19.1)\n",
      "Requirement already satisfied: matplotlib-inline in /home/dimitris/miniconda3/envs/3d_watershed/lib/python3.8/site-packages (from ipython>=6.1.0->ipywidgets->watershed-3d==0.0.4) (0.1.6)\n",
      "Requirement already satisfied: pickleshare in /home/dimitris/miniconda3/envs/3d_watershed/lib/python3.8/site-packages (from ipython>=6.1.0->ipywidgets->watershed-3d==0.0.4) (0.7.5)\n",
      "Requirement already satisfied: prompt-toolkit!=3.0.37,<3.1.0,>=3.0.30 in /home/dimitris/miniconda3/envs/3d_watershed/lib/python3.8/site-packages (from ipython>=6.1.0->ipywidgets->watershed-3d==0.0.4) (3.0.40)\n",
      "Requirement already satisfied: pygments>=2.4.0 in /home/dimitris/miniconda3/envs/3d_watershed/lib/python3.8/site-packages (from ipython>=6.1.0->ipywidgets->watershed-3d==0.0.4) (2.16.1)\n",
      "Requirement already satisfied: stack-data in /home/dimitris/miniconda3/envs/3d_watershed/lib/python3.8/site-packages (from ipython>=6.1.0->ipywidgets->watershed-3d==0.0.4) (0.6.2)\n",
      "Requirement already satisfied: pexpect>4.3 in /home/dimitris/miniconda3/envs/3d_watershed/lib/python3.8/site-packages (from ipython>=6.1.0->ipywidgets->watershed-3d==0.0.4) (4.8.0)\n",
      "Requirement already satisfied: MarkupSafe>=2.0 in /home/dimitris/miniconda3/envs/3d_watershed/lib/python3.8/site-packages (from jinja2>=3.0.3->jupyterlab->watershed-3d==0.0.4) (2.1.3)\n",
      "Requirement already satisfied: anyio>=3.1.0 in /home/dimitris/miniconda3/envs/3d_watershed/lib/python3.8/site-packages (from jupyter-server<3,>=2.4.0->jupyterlab->watershed-3d==0.0.4) (4.0.0)\n",
      "Requirement already satisfied: argon2-cffi in /home/dimitris/miniconda3/envs/3d_watershed/lib/python3.8/site-packages (from jupyter-server<3,>=2.4.0->jupyterlab->watershed-3d==0.0.4) (23.1.0)\n",
      "Requirement already satisfied: jupyter-client>=7.4.4 in /home/dimitris/miniconda3/envs/3d_watershed/lib/python3.8/site-packages (from jupyter-server<3,>=2.4.0->jupyterlab->watershed-3d==0.0.4) (8.6.0)\n",
      "Requirement already satisfied: jupyter-events>=0.6.0 in /home/dimitris/miniconda3/envs/3d_watershed/lib/python3.8/site-packages (from jupyter-server<3,>=2.4.0->jupyterlab->watershed-3d==0.0.4) (0.9.0)\n",
      "Requirement already satisfied: jupyter-server-terminals in /home/dimitris/miniconda3/envs/3d_watershed/lib/python3.8/site-packages (from jupyter-server<3,>=2.4.0->jupyterlab->watershed-3d==0.0.4) (0.4.4)\n",
      "Requirement already satisfied: nbconvert>=6.4.4 in /home/dimitris/miniconda3/envs/3d_watershed/lib/python3.8/site-packages (from jupyter-server<3,>=2.4.0->jupyterlab->watershed-3d==0.0.4) (7.11.0)\n",
      "Requirement already satisfied: nbformat>=5.3.0 in /home/dimitris/miniconda3/envs/3d_watershed/lib/python3.8/site-packages (from jupyter-server<3,>=2.4.0->jupyterlab->watershed-3d==0.0.4) (5.9.2)\n",
      "Requirement already satisfied: overrides in /home/dimitris/miniconda3/envs/3d_watershed/lib/python3.8/site-packages (from jupyter-server<3,>=2.4.0->jupyterlab->watershed-3d==0.0.4) (7.4.0)\n",
      "Requirement already satisfied: prometheus-client in /home/dimitris/miniconda3/envs/3d_watershed/lib/python3.8/site-packages (from jupyter-server<3,>=2.4.0->jupyterlab->watershed-3d==0.0.4) (0.18.0)\n",
      "Requirement already satisfied: pyzmq>=24 in /home/dimitris/miniconda3/envs/3d_watershed/lib/python3.8/site-packages (from jupyter-server<3,>=2.4.0->jupyterlab->watershed-3d==0.0.4) (25.1.0)\n",
      "Requirement already satisfied: send2trash>=1.8.2 in /home/dimitris/miniconda3/envs/3d_watershed/lib/python3.8/site-packages (from jupyter-server<3,>=2.4.0->jupyterlab->watershed-3d==0.0.4) (1.8.2)\n",
      "Requirement already satisfied: terminado>=0.8.3 in /home/dimitris/miniconda3/envs/3d_watershed/lib/python3.8/site-packages (from jupyter-server<3,>=2.4.0->jupyterlab->watershed-3d==0.0.4) (0.17.1)\n",
      "Requirement already satisfied: websocket-client in /home/dimitris/miniconda3/envs/3d_watershed/lib/python3.8/site-packages (from jupyter-server<3,>=2.4.0->jupyterlab->watershed-3d==0.0.4) (1.6.4)\n",
      "Requirement already satisfied: platformdirs>=2.5 in /home/dimitris/miniconda3/envs/3d_watershed/lib/python3.8/site-packages (from jupyter-core->jupyterlab->watershed-3d==0.0.4) (4.0.0)\n",
      "Requirement already satisfied: babel>=2.10 in /home/dimitris/miniconda3/envs/3d_watershed/lib/python3.8/site-packages (from jupyterlab-server<3,>=2.19.0->jupyterlab->watershed-3d==0.0.4) (2.13.1)\n",
      "Requirement already satisfied: json5>=0.9.0 in /home/dimitris/miniconda3/envs/3d_watershed/lib/python3.8/site-packages (from jupyterlab-server<3,>=2.19.0->jupyterlab->watershed-3d==0.0.4) (0.9.14)\n",
      "Requirement already satisfied: jsonschema>=4.18.0 in /home/dimitris/miniconda3/envs/3d_watershed/lib/python3.8/site-packages (from jupyterlab-server<3,>=2.19.0->jupyterlab->watershed-3d==0.0.4) (4.19.2)\n",
      "Requirement already satisfied: requests>=2.31 in /home/dimitris/miniconda3/envs/3d_watershed/lib/python3.8/site-packages (from jupyterlab-server<3,>=2.19.0->jupyterlab->watershed-3d==0.0.4) (2.31.0)\n",
      "Requirement already satisfied: six>=1.5 in /home/dimitris/miniconda3/envs/3d_watershed/lib/python3.8/site-packages (from python-dateutil>=2.8.2->pandas->watershed-3d==0.0.4) (1.16.0)\n",
      "Requirement already satisfied: toolz in /home/dimitris/miniconda3/envs/3d_watershed/lib/python3.8/site-packages (from altair->pciSeq->watershed-3d==0.0.4) (0.12.0)\n",
      "Requirement already satisfied: Werkzeug>=3.0.0 in /home/dimitris/miniconda3/envs/3d_watershed/lib/python3.8/site-packages (from flask->pciSeq->watershed-3d==0.0.4) (3.0.1)\n",
      "Requirement already satisfied: itsdangerous>=2.1.2 in /home/dimitris/miniconda3/envs/3d_watershed/lib/python3.8/site-packages (from flask->pciSeq->watershed-3d==0.0.4) (2.1.2)\n",
      "Requirement already satisfied: click>=8.1.3 in /home/dimitris/miniconda3/envs/3d_watershed/lib/python3.8/site-packages (from flask->pciSeq->watershed-3d==0.0.4) (8.1.7)\n",
      "Requirement already satisfied: blinker>=1.6.2 in /home/dimitris/miniconda3/envs/3d_watershed/lib/python3.8/site-packages (from flask->pciSeq->watershed-3d==0.0.4) (1.7.0)\n",
      "Requirement already satisfied: debugpy>=1.6.5 in /home/dimitris/miniconda3/envs/3d_watershed/lib/python3.8/site-packages (from ipykernel->jupyterlab->watershed-3d==0.0.4) (1.6.7)\n",
      "Requirement already satisfied: nest-asyncio in /home/dimitris/miniconda3/envs/3d_watershed/lib/python3.8/site-packages (from ipykernel->jupyterlab->watershed-3d==0.0.4) (1.5.8)\n",
      "Requirement already satisfied: psutil in /home/dimitris/miniconda3/envs/3d_watershed/lib/python3.8/site-packages (from ipykernel->jupyterlab->watershed-3d==0.0.4) (5.9.5)\n",
      "Requirement already satisfied: cffi>=1.0.0 in /home/dimitris/miniconda3/envs/3d_watershed/lib/python3.8/site-packages (from pyvips->pciSeq->watershed-3d==0.0.4) (1.16.0)\n",
      "Requirement already satisfied: async-timeout>=4.0.2 in /home/dimitris/miniconda3/envs/3d_watershed/lib/python3.8/site-packages (from redis->pciSeq->watershed-3d==0.0.4) (4.0.3)\n",
      "Requirement already satisfied: cachetools<6,>=4.0 in /home/dimitris/miniconda3/envs/3d_watershed/lib/python3.8/site-packages (from streamlit->pciSeq->watershed-3d==0.0.4) (5.3.2)\n",
      "Requirement already satisfied: protobuf<5,>=3.20 in /home/dimitris/miniconda3/envs/3d_watershed/lib/python3.8/site-packages (from streamlit->pciSeq->watershed-3d==0.0.4) (4.25.0)\n",
      "Requirement already satisfied: pyarrow>=6.0 in /home/dimitris/miniconda3/envs/3d_watershed/lib/python3.8/site-packages (from streamlit->pciSeq->watershed-3d==0.0.4) (14.0.1)\n",
      "Requirement already satisfied: rich<14,>=10.14.0 in /home/dimitris/miniconda3/envs/3d_watershed/lib/python3.8/site-packages (from streamlit->pciSeq->watershed-3d==0.0.4) (13.6.0)\n",
      "Requirement already satisfied: tenacity<9,>=8.1.0 in /home/dimitris/miniconda3/envs/3d_watershed/lib/python3.8/site-packages (from streamlit->pciSeq->watershed-3d==0.0.4) (8.2.3)\n",
      "Requirement already satisfied: toml<2,>=0.10.1 in /home/dimitris/miniconda3/envs/3d_watershed/lib/python3.8/site-packages (from streamlit->pciSeq->watershed-3d==0.0.4) (0.10.2)\n",
      "Requirement already satisfied: tzlocal<6,>=1.1 in /home/dimitris/miniconda3/envs/3d_watershed/lib/python3.8/site-packages (from streamlit->pciSeq->watershed-3d==0.0.4) (5.2)\n",
      "Requirement already satisfied: validators<1,>=0.2 in /home/dimitris/miniconda3/envs/3d_watershed/lib/python3.8/site-packages (from streamlit->pciSeq->watershed-3d==0.0.4) (0.22.0)\n",
      "Requirement already satisfied: gitpython!=3.1.19,<4,>=3.0.7 in /home/dimitris/miniconda3/envs/3d_watershed/lib/python3.8/site-packages (from streamlit->pciSeq->watershed-3d==0.0.4) (3.1.40)\n",
      "Requirement already satisfied: pydeck<1,>=0.8.0b4 in /home/dimitris/miniconda3/envs/3d_watershed/lib/python3.8/site-packages (from streamlit->pciSeq->watershed-3d==0.0.4) (0.8.1b0)\n",
      "Requirement already satisfied: watchdog>=2.1.5 in /home/dimitris/miniconda3/envs/3d_watershed/lib/python3.8/site-packages (from streamlit->pciSeq->watershed-3d==0.0.4) (3.0.0)\n",
      "Requirement already satisfied: idna>=2.8 in /home/dimitris/miniconda3/envs/3d_watershed/lib/python3.8/site-packages (from anyio>=3.1.0->jupyter-server<3,>=2.4.0->jupyterlab->watershed-3d==0.0.4) (3.4)\n",
      "Requirement already satisfied: sniffio>=1.1 in /home/dimitris/miniconda3/envs/3d_watershed/lib/python3.8/site-packages (from anyio>=3.1.0->jupyter-server<3,>=2.4.0->jupyterlab->watershed-3d==0.0.4) (1.3.0)\n",
      "Requirement already satisfied: exceptiongroup>=1.0.2 in /home/dimitris/miniconda3/envs/3d_watershed/lib/python3.8/site-packages (from anyio>=3.1.0->jupyter-server<3,>=2.4.0->jupyterlab->watershed-3d==0.0.4) (1.1.3)\n",
      "Requirement already satisfied: pycparser in /home/dimitris/miniconda3/envs/3d_watershed/lib/python3.8/site-packages (from cffi>=1.0.0->pyvips->pciSeq->watershed-3d==0.0.4) (2.21)\n",
      "Requirement already satisfied: gitdb<5,>=4.0.1 in /home/dimitris/miniconda3/envs/3d_watershed/lib/python3.8/site-packages (from gitpython!=3.1.19,<4,>=3.0.7->streamlit->pciSeq->watershed-3d==0.0.4) (4.0.11)\n",
      "Requirement already satisfied: parso<0.9.0,>=0.8.3 in /home/dimitris/miniconda3/envs/3d_watershed/lib/python3.8/site-packages (from jedi>=0.16->ipython>=6.1.0->ipywidgets->watershed-3d==0.0.4) (0.8.3)\n",
      "Requirement already satisfied: attrs>=22.2.0 in /home/dimitris/miniconda3/envs/3d_watershed/lib/python3.8/site-packages (from jsonschema>=4.18.0->jupyterlab-server<3,>=2.19.0->jupyterlab->watershed-3d==0.0.4) (23.1.0)\n",
      "Requirement already satisfied: jsonschema-specifications>=2023.03.6 in /home/dimitris/miniconda3/envs/3d_watershed/lib/python3.8/site-packages (from jsonschema>=4.18.0->jupyterlab-server<3,>=2.19.0->jupyterlab->watershed-3d==0.0.4) (2023.7.1)\n",
      "Requirement already satisfied: pkgutil-resolve-name>=1.3.10 in /home/dimitris/miniconda3/envs/3d_watershed/lib/python3.8/site-packages (from jsonschema>=4.18.0->jupyterlab-server<3,>=2.19.0->jupyterlab->watershed-3d==0.0.4) (1.3.10)\n",
      "Requirement already satisfied: referencing>=0.28.4 in /home/dimitris/miniconda3/envs/3d_watershed/lib/python3.8/site-packages (from jsonschema>=4.18.0->jupyterlab-server<3,>=2.19.0->jupyterlab->watershed-3d==0.0.4) (0.30.2)\n",
      "Requirement already satisfied: rpds-py>=0.7.1 in /home/dimitris/miniconda3/envs/3d_watershed/lib/python3.8/site-packages (from jsonschema>=4.18.0->jupyterlab-server<3,>=2.19.0->jupyterlab->watershed-3d==0.0.4) (0.12.0)\n",
      "Requirement already satisfied: python-json-logger>=2.0.4 in /home/dimitris/miniconda3/envs/3d_watershed/lib/python3.8/site-packages (from jupyter-events>=0.6.0->jupyter-server<3,>=2.4.0->jupyterlab->watershed-3d==0.0.4) (2.0.7)\n",
      "Requirement already satisfied: pyyaml>=5.3 in /home/dimitris/miniconda3/envs/3d_watershed/lib/python3.8/site-packages (from jupyter-events>=0.6.0->jupyter-server<3,>=2.4.0->jupyterlab->watershed-3d==0.0.4) (6.0.1)\n",
      "Requirement already satisfied: rfc3339-validator in /home/dimitris/miniconda3/envs/3d_watershed/lib/python3.8/site-packages (from jupyter-events>=0.6.0->jupyter-server<3,>=2.4.0->jupyterlab->watershed-3d==0.0.4) (0.1.4)\n",
      "Requirement already satisfied: rfc3986-validator>=0.1.1 in /home/dimitris/miniconda3/envs/3d_watershed/lib/python3.8/site-packages (from jupyter-events>=0.6.0->jupyter-server<3,>=2.4.0->jupyterlab->watershed-3d==0.0.4) (0.1.1)\n",
      "Requirement already satisfied: beautifulsoup4 in /home/dimitris/miniconda3/envs/3d_watershed/lib/python3.8/site-packages (from nbconvert>=6.4.4->jupyter-server<3,>=2.4.0->jupyterlab->watershed-3d==0.0.4) (4.12.2)\n",
      "Requirement already satisfied: bleach!=5.0.0 in /home/dimitris/miniconda3/envs/3d_watershed/lib/python3.8/site-packages (from nbconvert>=6.4.4->jupyter-server<3,>=2.4.0->jupyterlab->watershed-3d==0.0.4) (6.1.0)\n",
      "Requirement already satisfied: defusedxml in /home/dimitris/miniconda3/envs/3d_watershed/lib/python3.8/site-packages (from nbconvert>=6.4.4->jupyter-server<3,>=2.4.0->jupyterlab->watershed-3d==0.0.4) (0.7.1)\n",
      "Requirement already satisfied: jupyterlab-pygments in /home/dimitris/miniconda3/envs/3d_watershed/lib/python3.8/site-packages (from nbconvert>=6.4.4->jupyter-server<3,>=2.4.0->jupyterlab->watershed-3d==0.0.4) (0.2.2)\n",
      "Requirement already satisfied: mistune<4,>=2.0.3 in /home/dimitris/miniconda3/envs/3d_watershed/lib/python3.8/site-packages (from nbconvert>=6.4.4->jupyter-server<3,>=2.4.0->jupyterlab->watershed-3d==0.0.4) (3.0.2)\n",
      "Requirement already satisfied: nbclient>=0.5.0 in /home/dimitris/miniconda3/envs/3d_watershed/lib/python3.8/site-packages (from nbconvert>=6.4.4->jupyter-server<3,>=2.4.0->jupyterlab->watershed-3d==0.0.4) (0.8.0)\n",
      "Requirement already satisfied: pandocfilters>=1.4.1 in /home/dimitris/miniconda3/envs/3d_watershed/lib/python3.8/site-packages (from nbconvert>=6.4.4->jupyter-server<3,>=2.4.0->jupyterlab->watershed-3d==0.0.4) (1.5.0)\n",
      "Requirement already satisfied: tinycss2 in /home/dimitris/miniconda3/envs/3d_watershed/lib/python3.8/site-packages (from nbconvert>=6.4.4->jupyter-server<3,>=2.4.0->jupyterlab->watershed-3d==0.0.4) (1.2.1)\n",
      "Requirement already satisfied: fastjsonschema in /home/dimitris/miniconda3/envs/3d_watershed/lib/python3.8/site-packages (from nbformat>=5.3.0->jupyter-server<3,>=2.4.0->jupyterlab->watershed-3d==0.0.4) (2.18.1)\n",
      "Requirement already satisfied: ptyprocess>=0.5 in /home/dimitris/miniconda3/envs/3d_watershed/lib/python3.8/site-packages (from pexpect>4.3->ipython>=6.1.0->ipywidgets->watershed-3d==0.0.4) (0.7.0)\n",
      "Requirement already satisfied: wcwidth in /home/dimitris/miniconda3/envs/3d_watershed/lib/python3.8/site-packages (from prompt-toolkit!=3.0.37,<3.1.0,>=3.0.30->ipython>=6.1.0->ipywidgets->watershed-3d==0.0.4) (0.2.9)\n",
      "Requirement already satisfied: charset-normalizer<4,>=2 in /home/dimitris/miniconda3/envs/3d_watershed/lib/python3.8/site-packages (from requests>=2.31->jupyterlab-server<3,>=2.19.0->jupyterlab->watershed-3d==0.0.4) (3.3.2)\n",
      "Requirement already satisfied: urllib3<3,>=1.21.1 in /home/dimitris/miniconda3/envs/3d_watershed/lib/python3.8/site-packages (from requests>=2.31->jupyterlab-server<3,>=2.19.0->jupyterlab->watershed-3d==0.0.4) (2.0.7)\n",
      "Requirement already satisfied: certifi>=2017.4.17 in /home/dimitris/miniconda3/envs/3d_watershed/lib/python3.8/site-packages (from requests>=2.31->jupyterlab-server<3,>=2.19.0->jupyterlab->watershed-3d==0.0.4) (2023.7.22)\n",
      "Requirement already satisfied: markdown-it-py>=2.2.0 in /home/dimitris/miniconda3/envs/3d_watershed/lib/python3.8/site-packages (from rich<14,>=10.14.0->streamlit->pciSeq->watershed-3d==0.0.4) (3.0.0)\n",
      "Requirement already satisfied: backports.zoneinfo in /home/dimitris/miniconda3/envs/3d_watershed/lib/python3.8/site-packages (from tzlocal<6,>=1.1->streamlit->pciSeq->watershed-3d==0.0.4) (0.2.1)\n",
      "Requirement already satisfied: argon2-cffi-bindings in /home/dimitris/miniconda3/envs/3d_watershed/lib/python3.8/site-packages (from argon2-cffi->jupyter-server<3,>=2.4.0->jupyterlab->watershed-3d==0.0.4) (21.2.0)\n",
      "Requirement already satisfied: executing>=1.2.0 in /home/dimitris/miniconda3/envs/3d_watershed/lib/python3.8/site-packages (from stack-data->ipython>=6.1.0->ipywidgets->watershed-3d==0.0.4) (2.0.1)\n",
      "Requirement already satisfied: asttokens>=2.1.0 in /home/dimitris/miniconda3/envs/3d_watershed/lib/python3.8/site-packages (from stack-data->ipython>=6.1.0->ipywidgets->watershed-3d==0.0.4) (2.4.1)\n",
      "Requirement already satisfied: pure-eval in /home/dimitris/miniconda3/envs/3d_watershed/lib/python3.8/site-packages (from stack-data->ipython>=6.1.0->ipywidgets->watershed-3d==0.0.4) (0.2.2)\n",
      "Requirement already satisfied: webencodings in /home/dimitris/miniconda3/envs/3d_watershed/lib/python3.8/site-packages (from bleach!=5.0.0->nbconvert>=6.4.4->jupyter-server<3,>=2.4.0->jupyterlab->watershed-3d==0.0.4) (0.5.1)\n",
      "Requirement already satisfied: smmap<6,>=3.0.1 in /home/dimitris/miniconda3/envs/3d_watershed/lib/python3.8/site-packages (from gitdb<5,>=4.0.1->gitpython!=3.1.19,<4,>=3.0.7->streamlit->pciSeq->watershed-3d==0.0.4) (5.0.1)\n",
      "Requirement already satisfied: fqdn in /home/dimitris/miniconda3/envs/3d_watershed/lib/python3.8/site-packages (from jsonschema[format-nongpl]>=4.18.0->jupyter-events>=0.6.0->jupyter-server<3,>=2.4.0->jupyterlab->watershed-3d==0.0.4) (1.5.1)\n",
      "Requirement already satisfied: isoduration in /home/dimitris/miniconda3/envs/3d_watershed/lib/python3.8/site-packages (from jsonschema[format-nongpl]>=4.18.0->jupyter-events>=0.6.0->jupyter-server<3,>=2.4.0->jupyterlab->watershed-3d==0.0.4) (20.11.0)\n",
      "Requirement already satisfied: jsonpointer>1.13 in /home/dimitris/miniconda3/envs/3d_watershed/lib/python3.8/site-packages (from jsonschema[format-nongpl]>=4.18.0->jupyter-events>=0.6.0->jupyter-server<3,>=2.4.0->jupyterlab->watershed-3d==0.0.4) (2.4)\n",
      "Requirement already satisfied: uri-template in /home/dimitris/miniconda3/envs/3d_watershed/lib/python3.8/site-packages (from jsonschema[format-nongpl]>=4.18.0->jupyter-events>=0.6.0->jupyter-server<3,>=2.4.0->jupyterlab->watershed-3d==0.0.4) (1.3.0)\n",
      "Requirement already satisfied: webcolors>=1.11 in /home/dimitris/miniconda3/envs/3d_watershed/lib/python3.8/site-packages (from jsonschema[format-nongpl]>=4.18.0->jupyter-events>=0.6.0->jupyter-server<3,>=2.4.0->jupyterlab->watershed-3d==0.0.4) (1.13)\n",
      "Requirement already satisfied: mdurl~=0.1 in /home/dimitris/miniconda3/envs/3d_watershed/lib/python3.8/site-packages (from markdown-it-py>=2.2.0->rich<14,>=10.14.0->streamlit->pciSeq->watershed-3d==0.0.4) (0.1.2)\n",
      "Requirement already satisfied: soupsieve>1.2 in /home/dimitris/miniconda3/envs/3d_watershed/lib/python3.8/site-packages (from beautifulsoup4->nbconvert>=6.4.4->jupyter-server<3,>=2.4.0->jupyterlab->watershed-3d==0.0.4) (2.5)\n",
      "Requirement already satisfied: arrow>=0.15.0 in /home/dimitris/miniconda3/envs/3d_watershed/lib/python3.8/site-packages (from isoduration->jsonschema[format-nongpl]>=4.18.0->jupyter-events>=0.6.0->jupyter-server<3,>=2.4.0->jupyterlab->watershed-3d==0.0.4) (1.3.0)\n",
      "Requirement already satisfied: types-python-dateutil>=2.8.10 in /home/dimitris/miniconda3/envs/3d_watershed/lib/python3.8/site-packages (from arrow>=0.15.0->isoduration->jsonschema[format-nongpl]>=4.18.0->jupyter-events>=0.6.0->jupyter-server<3,>=2.4.0->jupyterlab->watershed-3d==0.0.4) (2.8.19.14)\n",
      "Installing collected packages: watershed-3d\n",
      "Successfully installed watershed-3d-0.0.4\n"
     ]
    }
   ],
   "source": [
    "!pip uninstall -y watershed_3d\n",
    "!pip install --no-cache-dir  https://github.com/acycliq/3d_watershed/raw/master/dist/watershed_3d-0.0.4-py3-none-any.whl"
   ]
  },
  {
   "cell_type": "markdown",
   "id": "5fb1a884-47bc-4fde-8ef0-a743fb24bb14",
   "metadata": {},
   "source": [
    "### Import some other packages needed for this notebook"
   ]
  },
  {
   "cell_type": "code",
   "execution_count": 2,
   "id": "23e7c166-49da-432e-bafe-10c923732268",
   "metadata": {},
   "outputs": [
    {
     "name": "stdout",
     "output_type": "stream",
     "text": [
      "DIPlib -- a quantitative image analysis library\n",
      "Version 3.4.1 (Oct 13 2023)\n",
      "For more information see https://diplib.org\n"
     ]
    }
   ],
   "source": [
    "import watershed_3d as ws\n",
    "import pandas as pd\n",
    "import numpy as np\n",
    "from scipy.sparse import coo_matrix\n",
    "from PIL import Image, ImageDraw"
   ]
  },
  {
   "cell_type": "code",
   "execution_count": 3,
   "id": "fe47dfe1-5a65-4c3a-9816-333317341d1d",
   "metadata": {},
   "outputs": [
    {
     "name": "stdout",
     "output_type": "stream",
     "text": [
      "0.0.4\n"
     ]
    }
   ],
   "source": [
    "print(ws.__version__)"
   ]
  },
  {
   "cell_type": "markdown",
   "id": "88af9cd0-8278-457f-85bf-a4788b1f25e3",
   "metadata": {},
   "source": [
    "### Do now the segmentation. Call the app method and pass in the path to the 3d-image and a list of the pages that havent been imaged properly"
   ]
  },
  {
   "cell_type": "code",
   "execution_count": 4,
   "id": "96efdc99-fe99-4007-9802-acc0f7bf0cb2",
   "metadata": {},
   "outputs": [],
   "source": [
    "img_path = r\"./microglia_ WT997_icvAB_Iba1_retiled.tif\"\n",
    "bad_pages = list(range(0, 16)) + [65, 66]"
   ]
  },
  {
   "cell_type": "markdown",
   "id": "2ad02ae2-8cc9-4b08-a2d6-8cc910089022",
   "metadata": {},
   "source": [
    "Internally the app() method does two things. First, it tries to adjust the brightness of the image and then segments it with watershed. There is a third arg in the app() method which is optional called 'do_rolling_ball' and by default is set to False. If there is an area of the image that is hugely overexposed compared to the rest and the adjustments carried out inside the app() method do not produce a good result, then maybe re-running app() with 'do_rolling_ball' = True would yield better results. However the algorithm will take a lot longer to finish, probably hours.\n",
    "\n",
    "During the run, the app() method will save some images on the disk, look at the log messages about the exact location. It would be advisable to have a look at these images to get an idea about how well these adjustment work\n",
    "\n",
    "The 'image_url' that is passed-in to app() should point to a 3d image that is in the format ZYX, ie numStacks-Height-Width "
   ]
  },
  {
   "cell_type": "code",
   "execution_count": null,
   "id": "ce21e0df-ac33-4751-9503-05f8a6e764e0",
   "metadata": {},
   "outputs": [
    {
     "name": "stderr",
     "output_type": "stream",
     "text": [
      "2023-11-12 20:59:05,347 - watershed_3d - INFO - Adjusting the image\n",
      "2023-11-12 21:00:10,995 - watershed_3d - INFO - black and white image saved at ./debug/bw_image.tiff\n",
      "2023-11-12 21:00:15,770 - watershed_3d - INFO - curve-adjusted image saved at ./debug/adj_img.tiff\n",
      "2023-11-12 21:00:15,803 - watershed_3d - INFO - Started watershed\n",
      "2023-11-12 21:07:11,725 - watershed_3d - INFO - Finished watershed\n",
      "2023-11-12 21:07:11,726 - watershed_3d - INFO - stitching the 2d masks\n",
      "2023-11-12 21:08:23,546 - watershed_3d - INFO - stitching finished\n",
      "2023-11-12 21:08:26,510 - watershed_3d - INFO - stitched_masks saved at ./debug/stitched_masks.npy\n"
     ]
    }
   ],
   "source": [
    "## Pass the path to your image as the first argument and then a dictionary\n",
    "## with any of the following key/values pairs:\n",
    "# opts = {\n",
    "#     'exclude_pages': [],    a list with the planes to ignore. Default is an empty list\n",
    "#     'mode': '2d_stitch',    either '2d_stitch' or '3d'\n",
    "#     'stitch_threshold': 0.009, If the overlap is bigger than 'stitch_threshold' then the label \n",
    "#                                will be passed to the overlapping shape in the following plane.\n",
    "#                                Default value is 0.009.\n",
    "#                                This option is relavant only if 'mode' is '2d_stitch' otherwise\n",
    "#                                it is ignored.\n",
    "#     'do_rolling_ball': False, If True then the rolling ball filter will be applied on the image. \n",
    "#                               Usefule only in cases where locally there is very high brightness \n",
    "#                               and the rest of the image or too dark. Default value is False\n",
    "#     'maxDepth': 1.0           parameter that controls whether two shapes when their boundaries meet, \n",
    "#                               will be merged or not. Is it is set too high then you will end up with an \n",
    "#                               undersegmented image (few and very large shapes). If it is too low, then \n",
    "#                               you will have an oversegmented image (too many and probably small \n",
    "#                               shapes). maxDepth is only relevant if mode='3d', otherwise it is ignored.\n",
    "#    }\n",
    "#\n",
    "opts = {\n",
    "    'exclude_pages': bad_pages,\n",
    "    'mode': '2d_stitch',\n",
    "    'stitch_threshold': 0.009,\n",
    "}\n",
    "masks = ws.app(image_url=img_path, opts=opts)\n"
   ]
  },
  {
   "cell_type": "markdown",
   "id": "2d1abb24-87bc-4f86-95ab-bc95bdb647e1",
   "metadata": {},
   "source": [
    "You can have a preview of the performance of watershed by looking at the images saved in ./debug/segmentation_samples"
   ]
  },
  {
   "cell_type": "code",
   "execution_count": null,
   "id": "9b8fa525-19e7-47af-878c-81845b0292cf",
   "metadata": {},
   "outputs": [],
   "source": [
    "# lets see what the max label is\n",
    "masks.max()"
   ]
  },
  {
   "cell_type": "code",
   "execution_count": null,
   "id": "ea1c60f7-5a2f-41d2-9572-fc44a91348de",
   "metadata": {},
   "outputs": [],
   "source": [
    "# lets see now how many distinct labels we have (this will take some seconds...)\n",
    "np.unique(masks).shape"
   ]
  },
  {
   "cell_type": "markdown",
   "id": "500adef1-dbd5-4cfc-8755-87c4864bc568",
   "metadata": {},
   "source": [
    "So, the number of distinct labels is greater than the max number by one? \n",
    "Yes, because the number 203975 includes 0, the background.\n",
    "Hence these two numbers make sense and the microglia shapes have been labelled in \n",
    "sequential manner, there are no gaps in the labels"
   ]
  },
  {
   "cell_type": "markdown",
   "id": "79fd0c8c-cfa7-4240-95f8-04a7c3a2e937",
   "metadata": {},
   "source": [
    "Lets now try to assign the spots to these microglia shapes"
   ]
  },
  {
   "cell_type": "markdown",
   "id": "1ececfd4-8e6a-4f67-976a-3965075dcb7b",
   "metadata": {},
   "source": [
    "## Spot assignement"
   ]
  },
  {
   "cell_type": "code",
   "execution_count": null,
   "id": "3ad6531b-b1f6-4f10-8ab5-e8060cdc8170",
   "metadata": {},
   "outputs": [],
   "source": [
    "spots = pd.read_csv('spots_WT997_icvAB_OMP_restitched.csv')\n",
    "spots"
   ]
  },
  {
   "cell_type": "markdown",
   "id": "351456a7-bf49-4a40-ae0d-39c7bbe9cc52",
   "metadata": {},
   "source": [
    "To assign the spots, call the label_spots() method and pass in the spots dataframe and the masks array that you produced a few steps above from watershed.\n",
    "\n",
    "The spots dataframe needs to have at least three columns with names 'x', 'y' and 'z_stack'. The label_spots() method will then append and extra column with the name 'label' at the end of this dataframe. It shows which shape the spots has been assigned to. If label=0 then the spot is on the background"
   ]
  },
  {
   "cell_type": "code",
   "execution_count": null,
   "id": "0e1ea834-288e-47c3-bcab-4401b4808c04",
   "metadata": {},
   "outputs": [],
   "source": [
    "spots_labeled = ws.label_spots(spots, masks)\n",
    "spots_labeled"
   ]
  },
  {
   "cell_type": "markdown",
   "id": "a8d8d508-67c7-427f-8c74-51a9d3ee2992",
   "metadata": {},
   "source": [
    "## Sanity checking"
   ]
  },
  {
   "cell_type": "markdown",
   "id": "6f203ea1-481f-407f-b498-b57d1d31b3a6",
   "metadata": {},
   "source": [
    "Lets now play around with one mask and do some sanity checking. This section will also help us to get a better grasp of the data and what they mean."
   ]
  },
  {
   "cell_type": "markdown",
   "id": "077639e6-4d18-4172-a453-47780defca33",
   "metadata": {},
   "source": [
    "Pick up the mask that corresponds to the 20th image in the 3d stack"
   ]
  },
  {
   "cell_type": "code",
   "execution_count": null,
   "id": "c51eade2-f02e-4b2d-aee5-8c121c355092",
   "metadata": {},
   "outputs": [],
   "source": [
    "mask_20 = masks[20]"
   ]
  },
  {
   "cell_type": "markdown",
   "id": "4c22ee91-4870-4cbc-87ae-be5902fa6acb",
   "metadata": {},
   "source": [
    "mask_20 is an array with a lot of zeros (that correspond to the background) and some integer values (labels) that correspond to the microglia shapes.\n",
    "\n",
    "The lines in the cell below: <br>\n",
    "    &emsp; 1. convert the array to a boolean, true if the pixel is in microglia, false otherwise <br>\n",
    "    &emsp;2. convert the boolean to binary (255 if microglia, 0 otherwise)<br>\n",
    "    &emsp;3. Changes the type to unit8 (necessary to to the image)<br>\n",
    "    &emsp;4. Does the image from the array"
   ]
  },
  {
   "cell_type": "code",
   "execution_count": null,
   "id": "0d0ba891-9dfa-4709-be54-23ee2b038ca0",
   "metadata": {},
   "outputs": [],
   "source": [
    "m = mask_20 > 0\n",
    "m = 255 * m\n",
    "m = m.astype(np.uint8)\n",
    "Image.fromarray(m)"
   ]
  },
  {
   "cell_type": "markdown",
   "id": "38860559-9946-4544-96de-73b75e623599",
   "metadata": {},
   "source": [
    "The image above is a black and white image of the segmented 20th page (frame) of the 3d-image"
   ]
  },
  {
   "cell_type": "markdown",
   "id": "a7b481c5-5e76-4a04-88bb-12d0175aae14",
   "metadata": {},
   "source": [
    "Les now see which shapes are the biggest"
   ]
  },
  {
   "cell_type": "code",
   "execution_count": null,
   "id": "b655f953-d551-4e71-9ab0-127e081f21a4",
   "metadata": {},
   "outputs": [],
   "source": [
    "uid, cts = np.unique(mask_20, return_counts=True) "
   ]
  },
  {
   "cell_type": "code",
   "execution_count": null,
   "id": "4ed01132-b166-4e31-bd0e-063f80ed3661",
   "metadata": {},
   "outputs": [],
   "source": [
    "df = pd.DataFrame({'label':uid, 'area': cts}).sort_values(by=['area'], ascending=False)\n",
    "df"
   ]
  },
  {
   "cell_type": "markdown",
   "id": "0f7adecb-2cf2-4533-86a2-e8dba3f16852",
   "metadata": {},
   "source": [
    "The dataframe above shows the area, in pixels, that each shape covers. As expected the background (label=0) covers a big part of the image.\n",
    "\n",
    "But how about the shape with label=6779. Can we see which one it is?\n",
    "\n",
    "Yes we can do this by the following code:"
   ]
  },
  {
   "cell_type": "code",
   "execution_count": null,
   "id": "a7e4a3f8-a408-4032-a16c-ab0fb2b39613",
   "metadata": {},
   "outputs": [],
   "source": [
    "t = mask_20 == 6779 # True if label=6779, False otherwise\n",
    "t = t.astype(np.uint8)\n",
    "t = t * 255\n",
    "Image.fromarray(t.astype(np.uint8))"
   ]
  },
  {
   "cell_type": "markdown",
   "id": "48937a16-23a3-412b-b6ce-3367f1e2d094",
   "metadata": {},
   "source": [
    "Ah, dissapointing! It is one of the funny ones at the edges of the image. In fact quite a few of the shapes in the top of the dataframe above are like that; Shapes at the edges\n",
    "\n",
    "Ok, lets look deeper into that dataframe, lower than the top5"
   ]
  },
  {
   "cell_type": "code",
   "execution_count": null,
   "id": "a127e13c-1fbc-4a37-9331-ab557c7d21cb",
   "metadata": {},
   "outputs": [],
   "source": [
    "df.head(20)"
   ]
  },
  {
   "cell_type": "markdown",
   "id": "4b9dc52a-2124-4258-870d-acc64362a281",
   "metadata": {},
   "source": [
    "Lets pick up label 21471"
   ]
  },
  {
   "cell_type": "code",
   "execution_count": null,
   "id": "04aa67cb-3bb8-4dfc-92b1-44e85f7d8a7c",
   "metadata": {},
   "outputs": [],
   "source": [
    "t = mask_20 == 21471\n",
    "t = t.astype(np.uint8)\n",
    "t = t * 255\n",
    "microglia_21471 = Image.fromarray(t.astype(np.uint8))\n",
    "microglia_21471"
   ]
  },
  {
   "cell_type": "markdown",
   "id": "0350358a-8b06-4281-aa8b-5965b621a38c",
   "metadata": {},
   "source": [
    "That looks to be a nice typical miroglia shape!\n",
    "\n",
    "But how about the spots. Has the label_spots() method (a few steps earlier) done a good job and assigned them properly? \n",
    "\n",
    "Lets select the spots that have been assigned to microglia with label 21471 then"
   ]
  },
  {
   "cell_type": "code",
   "execution_count": null,
   "id": "75944810-ab7b-42f6-97bb-7f3bf7907700",
   "metadata": {},
   "outputs": [],
   "source": [
    "idx = spots_labeled.label == 21471\n",
    "spots_21471 = spots_labeled[idx]\n",
    "spots_21471"
   ]
  },
  {
   "cell_type": "markdown",
   "id": "a6c6379e-184c-428c-960a-a79ac78ecf0b",
   "metadata": {},
   "source": [
    "180 points in total. We will now overlay those spots on the microglia"
   ]
  },
  {
   "cell_type": "code",
   "execution_count": null,
   "id": "801c4b37-b164-4d2c-873e-563b26ec97b8",
   "metadata": {},
   "outputs": [],
   "source": [
    "# Create a new transparent image of the same size as the original image\n",
    "overlay = Image.new(\"RGBA\", microglia_21471.size, (255, 255, 255, 0))\n",
    "draw = ImageDraw.Draw(overlay)#\n",
    "\n",
    "# Define a color for the random points (red in this case)\n",
    "point_color = (255, 0, 0, 255)\n",
    "\n",
    "# draw now the cirles and paint them red\n",
    "for index, row in spots_21471.iterrows():\n",
    "    point_size = 5\n",
    "    x0, y0 = row['x'] - point_size, row['y'] - point_size\n",
    "    x1, y1 = row['x'] + point_size, row['y'] + point_size\n",
    "    draw.ellipse([x0, y0, x1, y1], fill=point_color)\n",
    "\n",
    "# overlay now the dots onto the microglia\n",
    "combined_img = Image.alpha_composite(microglia_21471.convert(\"RGBA\"), overlay)\n",
    "combined_img"
   ]
  },
  {
   "cell_type": "markdown",
   "id": "b40082c3-594d-4369-9465-1b7960713201",
   "metadata": {},
   "source": [
    "Hmm, that looks a bit puzzling. The spots look to be clustered on the correct area but not exactly. Clearly there are spots that are outside the boundaries, why is that??\n",
    "\n",
    "Because the dataframe above (the one with name 'spots_21471') has all the spots across the full z-stack. We are looking at mask 20 here but we have plotted the spots for all Zs\n",
    "\n",
    "Ah ok, so lets focus on the spots for z=20 then!"
   ]
  },
  {
   "cell_type": "code",
   "execution_count": null,
   "id": "f80f220e-febb-4ef8-9031-a3a5b72b1a95",
   "metadata": {},
   "outputs": [],
   "source": [
    "# Christina, i need to explain the logic behind the line below!\n",
    "idx = np.floor(spots_21471.z_stack == 20) > 0"
   ]
  },
  {
   "cell_type": "code",
   "execution_count": null,
   "id": "6e8103e1-9a61-47e9-92a4-0a64f111ee55",
   "metadata": {},
   "outputs": [],
   "source": [
    "# this dataframe has the spots assigned to microglia 21471 and \n",
    "# they are on the 20th location in the z-stack\n",
    "spots_21471_z20 = spots_21471[idx]\n",
    "spots_21471_z20"
   ]
  },
  {
   "cell_type": "markdown",
   "id": "7076754b-ae6f-474e-a4c1-d10842a19a4c",
   "metadata": {},
   "source": [
    "Lets try to overlay these points now to microglia_21471. It looks to be only 14 spots"
   ]
  },
  {
   "cell_type": "code",
   "execution_count": null,
   "id": "5970b004-05e4-46d7-bc1a-818f76d3f4b4",
   "metadata": {},
   "outputs": [],
   "source": [
    "# Create a new transparent image of the same size as the original image\n",
    "overlay = Image.new(\"RGBA\", microglia_21471.size, (255, 255, 255, 0))\n",
    "draw = ImageDraw.Draw(overlay)#\n",
    "\n",
    "# Define a color for the random points (red in this case)\n",
    "point_color = (255, 0, 0, 255)\n",
    "\n",
    "# draw now the cirles and paint them red\n",
    "for index, row in spots_21471_z20.iterrows():\n",
    "    point_size = 3\n",
    "    x0, y0 = row['x'] - point_size, row['y'] - point_size\n",
    "    x1, y1 = row['x'] + point_size, row['y'] + point_size\n",
    "    draw.ellipse([x0, y0, x1, y1], fill=point_color)\n",
    "\n",
    "# overlay now the dots onto the microglia\n",
    "combined_img = Image.alpha_composite(microglia_21471.convert(\"RGBA\"), overlay)\n",
    "combined_img"
   ]
  },
  {
   "cell_type": "markdown",
   "id": "b35ebb91-17fe-41cf-98af-beb6697603b1",
   "metadata": {},
   "source": [
    "That looks better! Can we have a closer look.\n",
    "\n",
    "Ok, lets crop the image then. We need to get some idea of the area to crop"
   ]
  },
  {
   "cell_type": "code",
   "execution_count": null,
   "id": "77014132-9c4b-479e-b968-3bda6ca02e5d",
   "metadata": {},
   "outputs": [],
   "source": [
    "padding = 10"
   ]
  },
  {
   "cell_type": "code",
   "execution_count": null,
   "id": "3aaa2368-b715-4450-ad77-2dd99660bf80",
   "metadata": {},
   "outputs": [],
   "source": [
    "xmin = spots_21471.x.min() - padding\n",
    "ymin = spots_21471.y.min() - padding\n",
    "xmax = spots_21471.x.max() + padding\n",
    "ymax = spots_21471.y.max() + padding"
   ]
  },
  {
   "cell_type": "markdown",
   "id": "2c2c3b67-ca70-4e5a-abd1-a3c19ce87d28",
   "metadata": {},
   "source": [
    "Lets crop the image."
   ]
  },
  {
   "cell_type": "code",
   "execution_count": null,
   "id": "2cb23cb1-8313-4e35-8eb3-0410535812e0",
   "metadata": {},
   "outputs": [],
   "source": [
    "crop = combined_img.crop((xmin, ymin, xmax, ymax))\n",
    "crop"
   ]
  },
  {
   "cell_type": "markdown",
   "id": "1fee8a72-acc7-4adf-9722-0c758f2b2435",
   "metadata": {},
   "source": [
    "It doesnt look that bad, Actually, it makes sense. All spots are within the shape. It seems that the label_spots() function works as expected"
   ]
  },
  {
   "cell_type": "code",
   "execution_count": null,
   "id": "6003f5f2-4a58-45fc-b0f0-fa7a6f39503c",
   "metadata": {},
   "outputs": [],
   "source": []
  }
 ],
 "metadata": {
  "kernelspec": {
   "display_name": "Python 3 (ipykernel)",
   "language": "python",
   "name": "python3"
  },
  "language_info": {
   "codemirror_mode": {
    "name": "ipython",
    "version": 3
   },
   "file_extension": ".py",
   "mimetype": "text/x-python",
   "name": "python",
   "nbconvert_exporter": "python",
   "pygments_lexer": "ipython3",
   "version": "3.8.18"
  }
 },
 "nbformat": 4,
 "nbformat_minor": 5
}
