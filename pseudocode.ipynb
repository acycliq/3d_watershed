{
 "cells": [
  {
   "cell_type": "code",
   "execution_count": 1,
   "id": "4ff6b2d0-2666-4abd-ab4a-898b3386cf91",
   "metadata": {},
   "outputs": [],
   "source": [
    "import pandas as pd\n",
    "import numpy as np\n",
    "from scipy.sparse import csr_matrix, coo_matrix"
   ]
  },
  {
   "cell_type": "code",
   "execution_count": 2,
   "id": "f6f66663-5480-445f-aa4c-543a5404b538",
   "metadata": {},
   "outputs": [],
   "source": [
    "## Lets make two simple arrays. A dapi array with two cells, labelled 2 and 7\n",
    "## and a microglia array. The shape of the process has label 5\n",
    "## I want to find if the two shapes overlap and if they do then to get the mapping\n",
    "\n",
    "dapi = [\n",
    "    [2, 2, 0, 0, 7],\n",
    "    [2, 2, 0, 7, 7],\n",
    "    [0, 0, 0, 0, 0]\n",
    "]\n",
    "\n",
    "microglia = [\n",
    "    [0, 0, 5, 0, 0],\n",
    "    [0, 5, 0, 0, 0],\n",
    "    [0, 0, 5, 5, 0]\n",
    "]"
   ]
  },
  {
   "cell_type": "code",
   "execution_count": 3,
   "id": "b02c97b1-4985-4e97-8552-393a34a4e934",
   "metadata": {},
   "outputs": [],
   "source": [
    "# Convert the array to parse matrices\n",
    "dapi_csr = csr_matrix(dapi)\n",
    "microglia_csr = csr_matrix(microglia)"
   ]
  },
  {
   "cell_type": "code",
   "execution_count": null,
   "id": "151b64aa-1e04-4869-953c-b34913abde16",
   "metadata": {},
   "outputs": [],
   "source": []
  },
  {
   "cell_type": "code",
   "execution_count": 4,
   "id": "dcf572ed-239b-44a2-9bb5-ebbff367d0ad",
   "metadata": {},
   "outputs": [],
   "source": [
    "# dapi_csr[microglia_coo.row, microglia_coo.col]"
   ]
  },
  {
   "cell_type": "code",
   "execution_count": 5,
   "id": "5efeadd1-5bd9-47a1-94b0-573d320fd17e",
   "metadata": {},
   "outputs": [
    {
     "data": {
      "text/plain": [
       "array([5, 5, 5, 5])"
      ]
     },
     "execution_count": 5,
     "metadata": {},
     "output_type": "execute_result"
    }
   ],
   "source": [
    "# The labels are kept under .data\n",
    "microglia_csr.data"
   ]
  },
  {
   "cell_type": "code",
   "execution_count": 6,
   "id": "7f2af08c-51e8-4d03-83dc-f819971073d9",
   "metadata": {},
   "outputs": [
    {
     "data": {
      "text/plain": [
       "(array([0, 1, 2, 2], dtype=int32), array([2, 1, 2, 3], dtype=int32))"
      ]
     },
     "execution_count": 6,
     "metadata": {},
     "output_type": "execute_result"
    }
   ],
   "source": [
    "# and this is the row, col location of the non zero elements\n",
    "microglia_csr.nonzero()"
   ]
  },
  {
   "cell_type": "code",
   "execution_count": null,
   "id": "76cd297d-3353-4364-9619-f2de4dd6fa91",
   "metadata": {},
   "outputs": [],
   "source": []
  },
  {
   "cell_type": "code",
   "execution_count": 7,
   "id": "1e5bc646-0f20-4ea9-9c08-95c62e3d79bd",
   "metadata": {},
   "outputs": [
    {
     "data": {
      "text/plain": [
       "matrix([[0, 2, 0, 0]])"
      ]
     },
     "execution_count": 7,
     "metadata": {},
     "output_type": "execute_result"
    }
   ],
   "source": [
    "# interogate now dapi. Does it have any labels where the microglia shape have been drawn\n",
    "dapi_csr[microglia_csr.nonzero()]"
   ]
  },
  {
   "cell_type": "code",
   "execution_count": 8,
   "id": "3a0bf1da-6c94-4711-93d5-2b379e581951",
   "metadata": {},
   "outputs": [],
   "source": [
    "# Q: ok why do I have an array of length 5?\n",
    "# A: Because the microglia shape you are asking about has an area of 4. You are asking about 4 pixels\n",
    "# \n",
    "# Q: ah ok. can i see the labels of those 4 pixels (the label of the microglia)?\n",
    "# A: yes, here you are:"
   ]
  },
  {
   "cell_type": "code",
   "execution_count": 9,
   "id": "f73c44b0-6904-4be1-87b0-76a069d4ab42",
   "metadata": {},
   "outputs": [
    {
     "data": {
      "text/plain": [
       "array([5, 5, 5, 5])"
      ]
     },
     "execution_count": 9,
     "metadata": {},
     "output_type": "execute_result"
    }
   ],
   "source": [
    "microglia_csr.data"
   ]
  },
  {
   "cell_type": "code",
   "execution_count": 10,
   "id": "8820f7a8-9685-4693-b070-ae56a0575464",
   "metadata": {},
   "outputs": [],
   "source": [
    "# Q: Ah nice, so my microglia shape has 4 pixels. And if i overlap my microglia to my dapi\n",
    "# those 4 pixels correspond to the background on the dapi side appart from one which falls\n",
    "# inside the nuclei with label 2?\n",
    "# A: yes exactly. What you can do get of the zeros and end up with something like:\n",
    "# \n",
    "#--------------------------------\n",
    "# dapi_label    microglia_label\n",
    "#      2             5\n",
    "#--------------------------------\n",
    "#"
   ]
  }
 ],
 "metadata": {
  "kernelspec": {
   "display_name": "Python 3 (ipykernel)",
   "language": "python",
   "name": "python3"
  },
  "language_info": {
   "codemirror_mode": {
    "name": "ipython",
    "version": 3
   },
   "file_extension": ".py",
   "mimetype": "text/x-python",
   "name": "python",
   "nbconvert_exporter": "python",
   "pygments_lexer": "ipython3",
   "version": "3.8.17"
  }
 },
 "nbformat": 4,
 "nbformat_minor": 5
}
