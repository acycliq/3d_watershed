{
 "cells": [
  {
   "cell_type": "code",
   "execution_count": 1,
   "id": "4ff6b2d0-2666-4abd-ab4a-898b3386cf91",
   "metadata": {},
   "outputs": [],
   "source": [
    "import pandas as pd\n",
    "import numpy as np\n",
    "from scipy.sparse import csr_matrix, coo_matrix, csr_array"
   ]
  },
  {
   "cell_type": "code",
   "execution_count": 2,
   "id": "f6f66663-5480-445f-aa4c-543a5404b538",
   "metadata": {},
   "outputs": [],
   "source": [
    "## Lets make two 3D simple arrays. A dapi array with two cells, labelled 2 and 7\n",
    "## and a microglia array. The microglia three processes has labels 9, 5, 6\n",
    "## The two arrays have the same dimensions. Is this TRUE Christina??\n",
    "\n",
    "dapi = [\n",
    "    [2, 2, 0, 0, 7],\n",
    "    [2, 2, 0, 7, 7],\n",
    "    [0, 0, 0, 0, 0]\n",
    "]\n",
    "dapi_IFr = np.stack([dapi, dapi])\n",
    "# dapi_binary = (dapi_IFr >1).astype(np.uint32)\n",
    "\n",
    "microglia = [\n",
    "    [9, 0, 5, 0, 0],\n",
    "    [0, 5, 5, 5, 0],\n",
    "    [0, 0, 5, 5, 6]\n",
    "]\n",
    "mg_filtered_IFr = np.stack([microglia, microglia])"
   ]
  },
  {
   "cell_type": "code",
   "execution_count": 3,
   "id": "ea5b7edd-f6cc-40bb-9456-e4b2ac029f19",
   "metadata": {},
   "outputs": [],
   "source": [
    "assert dapi_IFr.shape == mg_filtered_IFr.shape"
   ]
  },
  {
   "cell_type": "code",
   "execution_count": 4,
   "id": "bc315395-3e86-4859-b482-2de5d4f41bc0",
   "metadata": {},
   "outputs": [],
   "source": [
    "# get the number of planes. It is assumed the arrays are in ZYX format\n",
    "num_planes = dapi_IFr.shape[0]"
   ]
  },
  {
   "cell_type": "code",
   "execution_count": 5,
   "id": "33b8f0a5-8ea6-4a3a-96a7-3e8b795c9d5f",
   "metadata": {},
   "outputs": [],
   "source": [
    "my_mg = []\n",
    "my_nuclei = []\n",
    "for d in range(num_planes):\n",
    "    dapi_plane = dapi_IFr[d]\n",
    "    mg_plane = mg_filtered_IFr[d]\n",
    "\n",
    "    dapi_csr = csr_array(dapi_plane)\n",
    "    mg_csr = csr_array(mg_plane)\n",
    "\n",
    "    _inNuclei = dapi_csr[mg_csr.nonzero()]\n",
    "\n",
    "    # get the non zero elements only\n",
    "    idx = _inNuclei > 0\n",
    "\n",
    "    _inNuclei = _inNuclei[idx]\n",
    "    mg = mg_csr.data[idx]\n",
    "\n",
    "    my_mg.append(mg.tolist())\n",
    "    my_nuclei.append(_inNuclei.tolist())\n",
    "    "
   ]
  },
  {
   "cell_type": "code",
   "execution_count": 6,
   "id": "a7c0df3d-bbb1-4b32-8891-3efefac1a38e",
   "metadata": {},
   "outputs": [
    {
     "name": "stdout",
     "output_type": "stream",
     "text": [
      "[[9, 5, 5], [9, 5, 5]]\n"
     ]
    },
    {
     "data": {
      "text/plain": [
       "[9, 5, 5, 9, 5, 5]"
      ]
     },
     "execution_count": 6,
     "metadata": {},
     "output_type": "execute_result"
    }
   ],
   "source": [
    "# Christina, the line below is a bit cryptic, all it does is to flatten a nested list of lists\n",
    "print(my_mg) # this is before the flattening\n",
    "mg_labels = sum(my_mg, [])\n",
    "mg_labels # this is after the flattening"
   ]
  },
  {
   "cell_type": "code",
   "execution_count": 7,
   "id": "83fdb73a-ebc6-4907-834a-6805631976c4",
   "metadata": {},
   "outputs": [
    {
     "data": {
      "text/plain": [
       "[2, 2, 7, 2, 2, 7]"
      ]
     },
     "execution_count": 7,
     "metadata": {},
     "output_type": "execute_result"
    }
   ],
   "source": [
    "inNuclei = sum(my_nuclei, [])\n",
    "inNuclei"
   ]
  },
  {
   "cell_type": "code",
   "execution_count": 8,
   "id": "c611510d-e89f-4712-a41b-144a6f8de836",
   "metadata": {},
   "outputs": [
    {
     "data": {
      "text/html": [
       "<div>\n",
       "<style scoped>\n",
       "    .dataframe tbody tr th:only-of-type {\n",
       "        vertical-align: middle;\n",
       "    }\n",
       "\n",
       "    .dataframe tbody tr th {\n",
       "        vertical-align: top;\n",
       "    }\n",
       "\n",
       "    .dataframe thead th {\n",
       "        text-align: right;\n",
       "    }\n",
       "</style>\n",
       "<table border=\"1\" class=\"dataframe\">\n",
       "  <thead>\n",
       "    <tr style=\"text-align: right;\">\n",
       "      <th></th>\n",
       "      <th>mg_labels</th>\n",
       "      <th>inNuclei</th>\n",
       "    </tr>\n",
       "  </thead>\n",
       "  <tbody>\n",
       "    <tr>\n",
       "      <th>0</th>\n",
       "      <td>9</td>\n",
       "      <td>2</td>\n",
       "    </tr>\n",
       "    <tr>\n",
       "      <th>1</th>\n",
       "      <td>5</td>\n",
       "      <td>2</td>\n",
       "    </tr>\n",
       "    <tr>\n",
       "      <th>2</th>\n",
       "      <td>5</td>\n",
       "      <td>7</td>\n",
       "    </tr>\n",
       "    <tr>\n",
       "      <th>3</th>\n",
       "      <td>9</td>\n",
       "      <td>2</td>\n",
       "    </tr>\n",
       "    <tr>\n",
       "      <th>4</th>\n",
       "      <td>5</td>\n",
       "      <td>2</td>\n",
       "    </tr>\n",
       "    <tr>\n",
       "      <th>5</th>\n",
       "      <td>5</td>\n",
       "      <td>7</td>\n",
       "    </tr>\n",
       "  </tbody>\n",
       "</table>\n",
       "</div>"
      ],
      "text/plain": [
       "   mg_labels  inNuclei\n",
       "0          9         2\n",
       "1          5         2\n",
       "2          5         7\n",
       "3          9         2\n",
       "4          5         2\n",
       "5          5         7"
      ]
     },
     "execution_count": 8,
     "metadata": {},
     "output_type": "execute_result"
    }
   ],
   "source": [
    "# now that we have flattened everything we make a dataframe\n",
    "df = pd.DataFrame({'mg_labels':mg_labels, 'inNuclei': inNuclei})\n",
    "df"
   ]
  },
  {
   "cell_type": "code",
   "execution_count": 9,
   "id": "2265b18a-9202-4ebc-9f3e-96c8c93d550d",
   "metadata": {},
   "outputs": [
    {
     "data": {
      "text/plain": [
       "mg_labels  inNuclei\n",
       "5          2           2\n",
       "           7           2\n",
       "9          2           2\n",
       "dtype: int64"
      ]
     },
     "execution_count": 9,
     "metadata": {},
     "output_type": "execute_result"
    }
   ],
   "source": [
    "# group now by both mg and dapi labels\n",
    "df.groupby(['mg_labels','inNuclei']).size()"
   ]
  },
  {
   "cell_type": "code",
   "execution_count": 10,
   "id": "2299217c-fd8e-471a-95a0-cd91f11ae634",
   "metadata": {},
   "outputs": [],
   "source": [
    "# the matrix above means that the process with label 5 overlaps with two cells, those with \n",
    "# labels 2 and 7. In total 4 pixels of the microglia process are within the boundaries \n",
    "# of those cells"
   ]
  },
  {
   "cell_type": "markdown",
   "id": "f1246a41-a0b3-4f41-bcfb-1c373edcda54",
   "metadata": {},
   "source": [
    "### RESULT: I think this is what you want, right?"
   ]
  },
  {
   "cell_type": "code",
   "execution_count": 11,
   "id": "04d976c5-7b3d-478f-9f78-c118b444a988",
   "metadata": {},
   "outputs": [
    {
     "data": {
      "text/html": [
       "<div>\n",
       "<style scoped>\n",
       "    .dataframe tbody tr th:only-of-type {\n",
       "        vertical-align: middle;\n",
       "    }\n",
       "\n",
       "    .dataframe tbody tr th {\n",
       "        vertical-align: top;\n",
       "    }\n",
       "\n",
       "    .dataframe thead th {\n",
       "        text-align: right;\n",
       "    }\n",
       "</style>\n",
       "<table border=\"1\" class=\"dataframe\">\n",
       "  <thead>\n",
       "    <tr style=\"text-align: right;\">\n",
       "      <th></th>\n",
       "      <th>inNuclei</th>\n",
       "    </tr>\n",
       "    <tr>\n",
       "      <th>mg_labels</th>\n",
       "      <th></th>\n",
       "    </tr>\n",
       "  </thead>\n",
       "  <tbody>\n",
       "    <tr>\n",
       "      <th>5</th>\n",
       "      <td>2</td>\n",
       "    </tr>\n",
       "    <tr>\n",
       "      <th>9</th>\n",
       "      <td>1</td>\n",
       "    </tr>\n",
       "  </tbody>\n",
       "</table>\n",
       "</div>"
      ],
      "text/plain": [
       "           inNuclei\n",
       "mg_labels          \n",
       "5                 2\n",
       "9                 1"
      ]
     },
     "execution_count": 11,
     "metadata": {},
     "output_type": "execute_result"
    }
   ],
   "source": [
    "df.drop_duplicates().groupby('mg_labels').count()"
   ]
  },
  {
   "cell_type": "code",
   "execution_count": 12,
   "id": "d129c8ae-e01f-4a9c-a817-31d8ffa529fc",
   "metadata": {},
   "outputs": [],
   "source": [
    "# It shows that microglia with label 5 overlaps with 2 different nuclei \n",
    "# and microglia with label 9 with just one\n",
    "# If you arelooking for an mg_label and is missing from here then there is \n",
    "# no ovelap with a nucleus"
   ]
  },
  {
   "cell_type": "code",
   "execution_count": null,
   "id": "c1184449-c62d-4aad-84ca-b5cc5f15a60a",
   "metadata": {},
   "outputs": [],
   "source": []
  }
 ],
 "metadata": {
  "kernelspec": {
   "display_name": "Python 3 (ipykernel)",
   "language": "python",
   "name": "python3"
  },
  "language_info": {
   "codemirror_mode": {
    "name": "ipython",
    "version": 3
   },
   "file_extension": ".py",
   "mimetype": "text/x-python",
   "name": "python",
   "nbconvert_exporter": "python",
   "pygments_lexer": "ipython3",
   "version": "3.8.17"
  }
 },
 "nbformat": 4,
 "nbformat_minor": 5
}
